{
 "cells": [
  {
   "cell_type": "markdown",
   "metadata": {
    "_uuid": "0f9afca5816a9a32703f74778d803d40fc48ffee"
   },
   "source": [
    "# Profanity in Quora questions\n",
    "This notebook investigates the use and distribution of profanity (offensive language) among the Quora dataset of questions. Perhaps detection of profaniity in a question could help determine whether the question is insincere. To flag inappropriate language, we use the list of words blacklisted by Google, found [here](https://www.freewebheaders.com/full-list-of-bad-words-banned-by-google/). Throughout the notebook, these are referred to as 'bad words'.\n",
    "\n",
    "Please leave advice / comments below and feel free to fork.\n",
    "\n",
    "Warning: This notebook displays language that may be offensive.\n"
   ]
  },
  {
   "cell_type": "markdown",
   "metadata": {
    "_uuid": "a29a36a1b12e561686f0ba6018bbc7a86d202a1c"
   },
   "source": [
    "## Import packages and data"
   ]
  },
  {
   "cell_type": "code",
   "execution_count": 1,
   "metadata": {
    "_cell_guid": "b1076dfc-b9ad-4769-8c92-a6c4dae69d19",
    "_kg_hide-input": false,
    "_kg_hide-output": false,
    "_uuid": "8f2839f25d086af736a60e9eeb907d3b93b6e0e5"
   },
   "outputs": [
    {
     "name": "stderr",
     "output_type": "stream",
     "text": [
      "/anaconda3/lib/python3.6/site-packages/matplotlib/__init__.py:886: MatplotlibDeprecationWarning: \n",
      "examples.directory is deprecated; in the future, examples will be found relative to the 'datapath' directory.\n",
      "  \"found relative to the 'datapath' directory.\".format(key))\n"
     ]
    }
   ],
   "source": [
    "# Import packages\n",
    "import numpy as np # linear algebra\n",
    "import pandas as pd # data processing, CSV file I/O (e.g. pd.read_csv)\n",
    "import os\n",
    "import pickle\n",
    "from nltk.tokenize import word_tokenize\n",
    "from tqdm.auto import tqdm\n",
    "import seaborn as sns"
   ]
  },
  {
   "cell_type": "code",
   "execution_count": 2,
   "metadata": {
    "_cell_guid": "79c7e3d0-c299-4dcb-8224-4455121ee9b0",
    "_uuid": "d629ff2d2480ee46fbb7e2d37f6b5fab8052498a"
   },
   "outputs": [],
   "source": [
    "# Import training and test data from Quora questions dataset\n",
    "train = pd.read_csv('/Volumes/SDMemory/Datasets/Quora/train.csv')\n",
    "test = pd.read_csv('/Volumes/SDMemory/Datasets/Quora/test.csv')\n",
    "\n",
    "# Import list of bad words (banned by Google)\n",
    "bad_words = pd.read_csv('/Volumes/SDMemory/Datasets/Quora/bad_words.csv', header=None)"
   ]
  },
  {
   "cell_type": "code",
   "execution_count": 3,
   "metadata": {
    "_uuid": "e7b682efa9fea7121295f0f4756436abd4bc1f3f"
   },
   "outputs": [
    {
     "data": {
      "text/html": [
       "<div>\n",
       "<style scoped>\n",
       "    .dataframe tbody tr th:only-of-type {\n",
       "        vertical-align: middle;\n",
       "    }\n",
       "\n",
       "    .dataframe tbody tr th {\n",
       "        vertical-align: top;\n",
       "    }\n",
       "\n",
       "    .dataframe thead th {\n",
       "        text-align: right;\n",
       "    }\n",
       "</style>\n",
       "<table border=\"1\" class=\"dataframe\">\n",
       "  <thead>\n",
       "    <tr style=\"text-align: right;\">\n",
       "      <th></th>\n",
       "      <th>0</th>\n",
       "    </tr>\n",
       "  </thead>\n",
       "  <tbody>\n",
       "    <tr>\n",
       "      <th>868</th>\n",
       "      <td>hard on</td>\n",
       "    </tr>\n",
       "    <tr>\n",
       "      <th>909</th>\n",
       "      <td>horniest</td>\n",
       "    </tr>\n",
       "    <tr>\n",
       "      <th>1636</th>\n",
       "      <td>violet wand</td>\n",
       "    </tr>\n",
       "    <tr>\n",
       "      <th>1140</th>\n",
       "      <td>nigger</td>\n",
       "    </tr>\n",
       "    <tr>\n",
       "      <th>874</th>\n",
       "      <td>hell</td>\n",
       "    </tr>\n",
       "  </tbody>\n",
       "</table>\n",
       "</div>"
      ],
      "text/plain": [
       "                0\n",
       "868       hard on\n",
       "909      horniest\n",
       "1636  violet wand\n",
       "1140       nigger\n",
       "874          hell"
      ]
     },
     "execution_count": 3,
     "metadata": {},
     "output_type": "execute_result"
    }
   ],
   "source": [
    "# Sample of bad words - some are actually not swear words as such\n",
    "bad_words.sample(5)"
   ]
  },
  {
   "cell_type": "markdown",
   "metadata": {
    "_uuid": "af0ba19ad79e150d175cefb77c5b8878ab91f83b"
   },
   "source": [
    "## Function to detect and store bad words from a given sentence"
   ]
  },
  {
   "cell_type": "code",
   "execution_count": 4,
   "metadata": {
    "_uuid": "bf8b7227636bed3a566a171d07c455bc7907287b"
   },
   "outputs": [],
   "source": [
    "# Returns a list (possibly empty) of bad words in text\n",
    "def detect_badwords(text):\n",
    "    # tokenize the text\n",
    "    tokens = word_tokenize(text)\n",
    "    bad_found = []\n",
    "    for word in tokens:\n",
    "        for bad_word in bad_words[0]:\n",
    "            if bad_word == word:\n",
    "                bad_found.append(word)\n",
    "    return bad_found"
   ]
  },
  {
   "cell_type": "code",
   "execution_count": 5,
   "metadata": {
    "_uuid": "babfa0bc1a1337267e64feedc98872f01c1cf6c3"
   },
   "outputs": [
    {
     "data": {
      "text/plain": [
       "[['bullshit', 'twat'], []]"
      ]
     },
     "execution_count": 5,
     "metadata": {},
     "output_type": "execute_result"
    }
   ],
   "source": [
    "# Simple examples\n",
    "s1 = 'This politician speaks nothing but bullshit, what a twat'\n",
    "s2 = 'The sun shines brightly today'\n",
    "[detect_badwords(s) for s in [s1,s2]]"
   ]
  },
  {
   "cell_type": "markdown",
   "metadata": {
    "_uuid": "851aedc159fc2b3c17a67544e45803b9cb52335b"
   },
   "source": [
    "## Apply function to the Quora dataset\n"
   ]
  },
  {
   "cell_type": "code",
   "execution_count": 6,
   "metadata": {
    "_uuid": "2db70122fbd5126211f07ed0c6f1f83c23042446"
   },
   "outputs": [],
   "source": [
    "# # Register `pandas.progress_apply' with `tqdm`\n",
    "# tqdm.pandas()\n",
    "# # Run detect_badwords over all entries in the training data\n",
    "# temp_size = 10000\n",
    "# train_bad_words = train['question_text'].progress_apply(detect_badwords)\n",
    "# # Add as a column to the DataFrame\n",
    "# train['bad_words'] = train_bad_words\n",
    "\n",
    "# # Export the new dataframe as a pickle file for import at a later date\n",
    "# train.to_pickle('/Volumes/SDMemory/Datasets/Quora/train_bw.pkl')"
   ]
  },
  {
   "cell_type": "code",
   "execution_count": 7,
   "metadata": {},
   "outputs": [],
   "source": [
    "# Import training data with bad words detected\n",
    "train = pd.read_pickle('/Volumes/SDMemory/Datasets/Quora/train_bw.pkl')"
   ]
  },
  {
   "cell_type": "code",
   "execution_count": 8,
   "metadata": {
    "_uuid": "2aeea2c1d274afd74b81ad096c823bf013dff065",
    "scrolled": true
   },
   "outputs": [
    {
     "data": {
      "application/vnd.jupyter.widget-view+json": {
       "model_id": "0daa57f3b4a34507ae1fbdfd73f2aa58",
       "version_major": 2,
       "version_minor": 0
      },
      "text/html": [
       "<p>Failed to display Jupyter Widget of type <code>HBox</code>.</p>\n",
       "<p>\n",
       "  If you're reading this message in the Jupyter Notebook or JupyterLab Notebook, it may mean\n",
       "  that the widgets JavaScript is still loading. If this message persists, it\n",
       "  likely means that the widgets JavaScript library is either not installed or\n",
       "  not enabled. See the <a href=\"https://ipywidgets.readthedocs.io/en/stable/user_install.html\">Jupyter\n",
       "  Widgets Documentation</a> for setup instructions.\n",
       "</p>\n",
       "<p>\n",
       "  If you're reading this message in another frontend (for example, a static\n",
       "  rendering on GitHub or <a href=\"https://nbviewer.jupyter.org/\">NBViewer</a>),\n",
       "  it may mean that your frontend doesn't currently support widgets.\n",
       "</p>\n"
      ],
      "text/plain": [
       "HBox(children=(IntProgress(value=0, max=1306122), HTML(value='')))"
      ]
     },
     "metadata": {},
     "output_type": "display_data"
    },
    {
     "name": "stdout",
     "output_type": "stream",
     "text": [
      "\n"
     ]
    }
   ],
   "source": [
    "# Collect all entries that contain bad words\n",
    "bools_bw_nonempty = [train['bad_words'].iloc[i] != [] for i in tqdm(range(train.shape[0]))]\n",
    "df_bw = train[bools_bw_nonempty]\n",
    "\n",
    "# Sincere set\n",
    "df_bw_sincere = df_bw[df_bw['target'] == 0]\n",
    "# Insincere set\n",
    "df_bw_insincere = df_bw[df_bw['target'] ==1 ]\n"
   ]
  },
  {
   "cell_type": "markdown",
   "metadata": {},
   "source": [
    "### Sample of sincere posts containing bad words"
   ]
  },
  {
   "cell_type": "code",
   "execution_count": 9,
   "metadata": {
    "_uuid": "2f451cc032ed10a2983cdea19cef09ba7c321cc3",
    "scrolled": true
   },
   "outputs": [
    {
     "data": {
      "text/html": [
       "<div>\n",
       "<style scoped>\n",
       "    .dataframe tbody tr th:only-of-type {\n",
       "        vertical-align: middle;\n",
       "    }\n",
       "\n",
       "    .dataframe tbody tr th {\n",
       "        vertical-align: top;\n",
       "    }\n",
       "\n",
       "    .dataframe thead th {\n",
       "        text-align: right;\n",
       "    }\n",
       "</style>\n",
       "<table border=\"1\" class=\"dataframe\">\n",
       "  <thead>\n",
       "    <tr style=\"text-align: right;\">\n",
       "      <th></th>\n",
       "      <th>qid</th>\n",
       "      <th>question_text</th>\n",
       "      <th>target</th>\n",
       "      <th>bad_words</th>\n",
       "    </tr>\n",
       "  </thead>\n",
       "  <tbody>\n",
       "    <tr>\n",
       "      <th>1157247</th>\n",
       "      <td>e2c0a0219494afdf70e2</td>\n",
       "      <td>Are there any Indian porn production companies?</td>\n",
       "      <td>0</td>\n",
       "      <td>[porn]</td>\n",
       "    </tr>\n",
       "    <tr>\n",
       "      <th>363108</th>\n",
       "      <td>472bcb1729c627e4e63b</td>\n",
       "      <td>I am 17 and my cock has started bending, is it...</td>\n",
       "      <td>0</td>\n",
       "      <td>[cock]</td>\n",
       "    </tr>\n",
       "    <tr>\n",
       "      <th>1213178</th>\n",
       "      <td>edc724b65a58b60e84fb</td>\n",
       "      <td>What do you feel during sex?</td>\n",
       "      <td>0</td>\n",
       "      <td>[sex]</td>\n",
       "    </tr>\n",
       "    <tr>\n",
       "      <th>707816</th>\n",
       "      <td>8a96fd9f33747694aa24</td>\n",
       "      <td>Is it true that only Muslims go to heaven and ...</td>\n",
       "      <td>0</td>\n",
       "      <td>[hell]</td>\n",
       "    </tr>\n",
       "    <tr>\n",
       "      <th>1175948</th>\n",
       "      <td>e673080efce93b596500</td>\n",
       "      <td>How do I crack Civil Service exam?</td>\n",
       "      <td>0</td>\n",
       "      <td>[crack]</td>\n",
       "    </tr>\n",
       "  </tbody>\n",
       "</table>\n",
       "</div>"
      ],
      "text/plain": [
       "                          qid  \\\n",
       "1157247  e2c0a0219494afdf70e2   \n",
       "363108   472bcb1729c627e4e63b   \n",
       "1213178  edc724b65a58b60e84fb   \n",
       "707816   8a96fd9f33747694aa24   \n",
       "1175948  e673080efce93b596500   \n",
       "\n",
       "                                             question_text  target bad_words  \n",
       "1157247    Are there any Indian porn production companies?       0    [porn]  \n",
       "363108   I am 17 and my cock has started bending, is it...       0    [cock]  \n",
       "1213178                       What do you feel during sex?       0     [sex]  \n",
       "707816   Is it true that only Muslims go to heaven and ...       0    [hell]  \n",
       "1175948                 How do I crack Civil Service exam?       0   [crack]  "
      ]
     },
     "execution_count": 9,
     "metadata": {},
     "output_type": "execute_result"
    }
   ],
   "source": [
    "df_bw_sincere.sample(5)"
   ]
  },
  {
   "cell_type": "markdown",
   "metadata": {},
   "source": [
    "### Sample of insincere posts containing bad words"
   ]
  },
  {
   "cell_type": "code",
   "execution_count": 10,
   "metadata": {
    "scrolled": true
   },
   "outputs": [
    {
     "data": {
      "text/html": [
       "<div>\n",
       "<style scoped>\n",
       "    .dataframe tbody tr th:only-of-type {\n",
       "        vertical-align: middle;\n",
       "    }\n",
       "\n",
       "    .dataframe tbody tr th {\n",
       "        vertical-align: top;\n",
       "    }\n",
       "\n",
       "    .dataframe thead th {\n",
       "        text-align: right;\n",
       "    }\n",
       "</style>\n",
       "<table border=\"1\" class=\"dataframe\">\n",
       "  <thead>\n",
       "    <tr style=\"text-align: right;\">\n",
       "      <th></th>\n",
       "      <th>qid</th>\n",
       "      <th>question_text</th>\n",
       "      <th>target</th>\n",
       "      <th>bad_words</th>\n",
       "    </tr>\n",
       "  </thead>\n",
       "  <tbody>\n",
       "    <tr>\n",
       "      <th>841342</th>\n",
       "      <td>a4e581cbc24778e44dd2</td>\n",
       "      <td>Why do we need licenses for guns, operating mo...</td>\n",
       "      <td>1</td>\n",
       "      <td>[jackass]</td>\n",
       "    </tr>\n",
       "    <tr>\n",
       "      <th>576528</th>\n",
       "      <td>70f66d7326f05354b11c</td>\n",
       "      <td>Why is Modi a very bad politician? I have said...</td>\n",
       "      <td>1</td>\n",
       "      <td>[dirty]</td>\n",
       "    </tr>\n",
       "    <tr>\n",
       "      <th>83882</th>\n",
       "      <td>106babe0141c5213c715</td>\n",
       "      <td>Do you like to have sex with your mother?</td>\n",
       "      <td>1</td>\n",
       "      <td>[sex]</td>\n",
       "    </tr>\n",
       "    <tr>\n",
       "      <th>901341</th>\n",
       "      <td>b09b2090d659cb0ab059</td>\n",
       "      <td>How many more Republican senators and represen...</td>\n",
       "      <td>1</td>\n",
       "      <td>[sexual]</td>\n",
       "    </tr>\n",
       "    <tr>\n",
       "      <th>1025107</th>\n",
       "      <td>c8e1ac32f6615203d7c5</td>\n",
       "      <td>Am I transphobic if I don't think anyone with ...</td>\n",
       "      <td>1</td>\n",
       "      <td>[penis]</td>\n",
       "    </tr>\n",
       "  </tbody>\n",
       "</table>\n",
       "</div>"
      ],
      "text/plain": [
       "                          qid  \\\n",
       "841342   a4e581cbc24778e44dd2   \n",
       "576528   70f66d7326f05354b11c   \n",
       "83882    106babe0141c5213c715   \n",
       "901341   b09b2090d659cb0ab059   \n",
       "1025107  c8e1ac32f6615203d7c5   \n",
       "\n",
       "                                             question_text  target  bad_words  \n",
       "841342   Why do we need licenses for guns, operating mo...       1  [jackass]  \n",
       "576528   Why is Modi a very bad politician? I have said...       1    [dirty]  \n",
       "83882            Do you like to have sex with your mother?       1      [sex]  \n",
       "901341   How many more Republican senators and represen...       1   [sexual]  \n",
       "1025107  Am I transphobic if I don't think anyone with ...       1    [penis]  "
      ]
     },
     "execution_count": 10,
     "metadata": {},
     "output_type": "execute_result"
    }
   ],
   "source": [
    "df_bw_insincere.sample(5)"
   ]
  },
  {
   "cell_type": "markdown",
   "metadata": {},
   "source": [
    "## Count of posts with bad words"
   ]
  },
  {
   "cell_type": "code",
   "execution_count": 11,
   "metadata": {
    "scrolled": true
   },
   "outputs": [
    {
     "name": "stdout",
     "output_type": "stream",
     "text": [
      "Total number of sincere posts that contain at least one bad word: 34363\n",
      "Total number of insincere posts that contain at least one bad word: 14529\n"
     ]
    }
   ],
   "source": [
    "# Total number of entries that use at least one bad word\n",
    "bw_total_sincere = len(df_bw_sincere)\n",
    "bw_total_insincere = len(df_bw_insincere)\n",
    "\n",
    "print('Total number of sincere posts that contain at least one bad word:', bw_total_sincere)\n",
    "print('Total number of insincere posts that contain at least one bad word:', bw_total_insincere)\n"
   ]
  },
  {
   "cell_type": "code",
   "execution_count": 12,
   "metadata": {},
   "outputs": [],
   "source": [
    "# Total number of sincere and insincere posts\n",
    "num_sincere = len(train[ train['target'] == 0])\n",
    "num_insincere = len(train[ train['target'] == 1])"
   ]
  },
  {
   "cell_type": "code",
   "execution_count": 13,
   "metadata": {},
   "outputs": [
    {
     "data": {
      "text/html": [
       "<div>\n",
       "<style scoped>\n",
       "    .dataframe tbody tr th:only-of-type {\n",
       "        vertical-align: middle;\n",
       "    }\n",
       "\n",
       "    .dataframe tbody tr th {\n",
       "        vertical-align: top;\n",
       "    }\n",
       "\n",
       "    .dataframe thead th {\n",
       "        text-align: right;\n",
       "    }\n",
       "</style>\n",
       "<table border=\"1\" class=\"dataframe\">\n",
       "  <thead>\n",
       "    <tr style=\"text-align: right;\">\n",
       "      <th></th>\n",
       "      <th>Flag</th>\n",
       "      <th>Proportion</th>\n",
       "    </tr>\n",
       "  </thead>\n",
       "  <tbody>\n",
       "    <tr>\n",
       "      <th>0</th>\n",
       "      <td>Sincere</td>\n",
       "      <td>0.028044</td>\n",
       "    </tr>\n",
       "    <tr>\n",
       "      <th>1</th>\n",
       "      <td>Insincere</td>\n",
       "      <td>0.179792</td>\n",
       "    </tr>\n",
       "  </tbody>\n",
       "</table>\n",
       "</div>"
      ],
      "text/plain": [
       "        Flag  Proportion\n",
       "0    Sincere    0.028044\n",
       "1  Insincere    0.179792"
      ]
     },
     "execution_count": 13,
     "metadata": {},
     "output_type": "execute_result"
    }
   ],
   "source": [
    "# Proportions\n",
    "bw_ratio_sincere = bw_total_sincere/num_sincere\n",
    "bw_ratio_insincere = bw_total_insincere/num_insincere\n",
    "\n",
    "# Plot\n",
    "ratio_data = pd.DataFrame(\n",
    "    {'Flag': ['Sincere', 'Insincere'],\n",
    "     'Proportion': [bw_ratio_sincere, bw_ratio_insincere]}\n",
    ")\n",
    "ratio_data"
   ]
  },
  {
   "cell_type": "code",
   "execution_count": 14,
   "metadata": {
    "scrolled": false
   },
   "outputs": [
    {
     "data": {
      "image/png": "[encoded data removed]",
      "text/plain": [
       "<Figure size 432x288 with 1 Axes>"
      ]
     },
     "metadata": {},
     "output_type": "display_data"
    }
   ],
   "source": [
    "# Plot of proportion of questions that contain bad words\n",
    "sns.barplot(x='Flag', \n",
    "            y='Proportion',\n",
    "            data=ratio_data).set_title('Proportion of entries with at least one bad word');"
   ]
  },
  {
   "cell_type": "code",
   "execution_count": 15,
   "metadata": {
    "scrolled": false
   },
   "outputs": [
    {
     "name": "stdout",
     "output_type": "stream",
     "text": [
      "From the training data, insincere posts are about\n",
      "6.4 times more likely to contain bad words\n"
     ]
    }
   ],
   "source": [
    "print('''From the training data, insincere posts are about\n",
    "{:.1f} times more likely to contain bad words'''.format(bw_ratio_insincere/bw_ratio_sincere))"
   ]
  },
  {
   "cell_type": "markdown",
   "metadata": {},
   "source": [
    "There are many sincere posts that also contain bad words. Perhaps most of these words in the sincere posts are not so bad. Maybe we can extract the particularly vulgar words."
   ]
  },
  {
   "cell_type": "markdown",
   "metadata": {},
   "source": [
    "## Distribution among the bad words"
   ]
  },
  {
   "cell_type": "code",
   "execution_count": 16,
   "metadata": {},
   "outputs": [],
   "source": [
    "# Define a function to flatten a list of lists\n",
    "def flatten(l):\n",
    "    x = []\n",
    "    for sublist in l:\n",
    "        for element in sublist:\n",
    "            x.append(element)\n",
    "    return x\n",
    "\n",
    "# import collections library which has functions to compute frequency of elements\n",
    "import collections"
   ]
  },
  {
   "cell_type": "code",
   "execution_count": 17,
   "metadata": {},
   "outputs": [],
   "source": [
    "# Function to take in a DataFrame of Quora entries and output a DataFrame of swear words and frequency count\n",
    "def count_frequency(df):\n",
    "    # put all the used bad words into a list\n",
    "    bw_list = flatten(df['bad_words'].tolist())\n",
    "    # count the frequency of each bad word\n",
    "    counter = collections.Counter(bw_list)\n",
    "    # re-order in terms of frequency\n",
    "    counter = counter.most_common()\n",
    "    # put into a DataFrame\n",
    "    df_out = pd.DataFrame(counter, columns = ['Word', 'Frequency'])\n",
    "    # output\n",
    "    return df_out\n"
   ]
  },
  {
   "cell_type": "markdown",
   "metadata": {},
   "source": [
    "### Count frequency of swear words in sincere and insincere questions"
   ]
  },
  {
   "cell_type": "code",
   "execution_count": 18,
   "metadata": {},
   "outputs": [],
   "source": [
    "freq_sincere = count_frequency(df_bw_sincere)\n",
    "freq_insincere = count_frequency(df_bw_insincere)"
   ]
  },
  {
   "cell_type": "code",
   "execution_count": 19,
   "metadata": {
    "scrolled": true
   },
   "outputs": [
    {
     "data": {
      "text/html": [
       "<div>\n",
       "<style scoped>\n",
       "    .dataframe tbody tr th:only-of-type {\n",
       "        vertical-align: middle;\n",
       "    }\n",
       "\n",
       "    .dataframe tbody tr th {\n",
       "        vertical-align: top;\n",
       "    }\n",
       "\n",
       "    .dataframe thead th {\n",
       "        text-align: right;\n",
       "    }\n",
       "</style>\n",
       "<table border=\"1\" class=\"dataframe\">\n",
       "  <thead>\n",
       "    <tr style=\"text-align: right;\">\n",
       "      <th></th>\n",
       "      <th>Word</th>\n",
       "      <th>Frequency</th>\n",
       "    </tr>\n",
       "  </thead>\n",
       "  <tbody>\n",
       "    <tr>\n",
       "      <th>0</th>\n",
       "      <td>sex</td>\n",
       "      <td>6376</td>\n",
       "    </tr>\n",
       "    <tr>\n",
       "      <th>1</th>\n",
       "      <td>kill</td>\n",
       "      <td>2335</td>\n",
       "    </tr>\n",
       "    <tr>\n",
       "      <th>2</th>\n",
       "      <td>sexual</td>\n",
       "      <td>1685</td>\n",
       "    </tr>\n",
       "    <tr>\n",
       "      <th>3</th>\n",
       "      <td>gay</td>\n",
       "      <td>1518</td>\n",
       "    </tr>\n",
       "    <tr>\n",
       "      <th>4</th>\n",
       "      <td>crack</td>\n",
       "      <td>1367</td>\n",
       "    </tr>\n",
       "  </tbody>\n",
       "</table>\n",
       "</div>"
      ],
      "text/plain": [
       "     Word  Frequency\n",
       "0     sex       6376\n",
       "1    kill       2335\n",
       "2  sexual       1685\n",
       "3     gay       1518\n",
       "4   crack       1367"
      ]
     },
     "execution_count": 19,
     "metadata": {},
     "output_type": "execute_result"
    }
   ],
   "source": [
    "freq_sincere.head()"
   ]
  },
  {
   "cell_type": "code",
   "execution_count": 20,
   "metadata": {},
   "outputs": [
    {
     "name": "stdout",
     "output_type": "stream",
     "text": [
      "Number of sincere questions: 1225312\n",
      "Number of insincere questions: 80810\n"
     ]
    }
   ],
   "source": [
    "# Add a column for frequency normalised by the total number of questions in the set\n",
    "num_sincere = len(train[ train['target'] == 0])\n",
    "num_insincere = len(train[ train['target'] == 1])\n",
    "print('Number of sincere questions:', num_sincere)\n",
    "print('Number of insincere questions:', num_insincere)\n",
    "\n",
    "freq_sincere['Normalised Frequency'] = freq_sincere['Frequency']/num_sincere\n",
    "freq_insincere['Normalised Frequency'] = freq_insincere['Frequency']/num_insincere"
   ]
  },
  {
   "cell_type": "code",
   "execution_count": 21,
   "metadata": {},
   "outputs": [
    {
     "data": {
      "text/html": [
       "<div>\n",
       "<style scoped>\n",
       "    .dataframe tbody tr th:only-of-type {\n",
       "        vertical-align: middle;\n",
       "    }\n",
       "\n",
       "    .dataframe tbody tr th {\n",
       "        vertical-align: top;\n",
       "    }\n",
       "\n",
       "    .dataframe thead th {\n",
       "        text-align: right;\n",
       "    }\n",
       "</style>\n",
       "<table border=\"1\" class=\"dataframe\">\n",
       "  <thead>\n",
       "    <tr style=\"text-align: right;\">\n",
       "      <th></th>\n",
       "      <th>Word</th>\n",
       "      <th>Frequency</th>\n",
       "      <th>Normalised Frequency</th>\n",
       "    </tr>\n",
       "  </thead>\n",
       "  <tbody>\n",
       "    <tr>\n",
       "      <th>0</th>\n",
       "      <td>sex</td>\n",
       "      <td>2530</td>\n",
       "      <td>0.031308</td>\n",
       "    </tr>\n",
       "    <tr>\n",
       "      <th>1</th>\n",
       "      <td>gay</td>\n",
       "      <td>1425</td>\n",
       "      <td>0.017634</td>\n",
       "    </tr>\n",
       "    <tr>\n",
       "      <th>2</th>\n",
       "      <td>stupid</td>\n",
       "      <td>987</td>\n",
       "      <td>0.012214</td>\n",
       "    </tr>\n",
       "    <tr>\n",
       "      <th>3</th>\n",
       "      <td>kill</td>\n",
       "      <td>913</td>\n",
       "      <td>0.011298</td>\n",
       "    </tr>\n",
       "    <tr>\n",
       "      <th>4</th>\n",
       "      <td>fuck</td>\n",
       "      <td>748</td>\n",
       "      <td>0.009256</td>\n",
       "    </tr>\n",
       "  </tbody>\n",
       "</table>\n",
       "</div>"
      ],
      "text/plain": [
       "     Word  Frequency  Normalised Frequency\n",
       "0     sex       2530              0.031308\n",
       "1     gay       1425              0.017634\n",
       "2  stupid        987              0.012214\n",
       "3    kill        913              0.011298\n",
       "4    fuck        748              0.009256"
      ]
     },
     "execution_count": 21,
     "metadata": {},
     "output_type": "execute_result"
    }
   ],
   "source": [
    "freq_insincere.head()"
   ]
  },
  {
   "cell_type": "code",
   "execution_count": 22,
   "metadata": {},
   "outputs": [
    {
     "data": {
      "image/png": "[encoded data removed]",
      "text/plain": [
       "<Figure size 432x288 with 1 Axes>"
      ]
     },
     "metadata": {},
     "output_type": "display_data"
    }
   ],
   "source": [
    "# Bar plot: 10 most frequent bad words in sincere questions\n",
    "sns.barplot(x='Word',\n",
    "            y='Normalised Frequency',\n",
    "            data=freq_sincere.iloc[:10]\n",
    "           ).set_title('Most frequent \\'bad\\' words in Quora sincere questions');"
   ]
  },
  {
   "cell_type": "code",
   "execution_count": 23,
   "metadata": {},
   "outputs": [
    {
     "data": {
      "image/png": "[encoded data removed]",
      "text/plain": [
       "<Figure size 432x288 with 1 Axes>"
      ]
     },
     "metadata": {},
     "output_type": "display_data"
    }
   ],
   "source": [
    "# Bar plot: 10 most frequent bad words in insincere questions\n",
    "sns.barplot(x='Word',\n",
    "            y='Normalised Frequency',\n",
    "            data=freq_insincere.iloc[:10]\n",
    "           ).set_title('Most frequent \\'bad\\' words in Quora insincere questions');"
   ]
  },
  {
   "cell_type": "markdown",
   "metadata": {},
   "source": [
    "### Scatter plot of bad words against their relative frequency in the Quora posts"
   ]
  },
  {
   "cell_type": "code",
   "execution_count": 24,
   "metadata": {},
   "outputs": [
    {
     "data": {
      "text/html": [
       "<div>\n",
       "<style scoped>\n",
       "    .dataframe tbody tr th:only-of-type {\n",
       "        vertical-align: middle;\n",
       "    }\n",
       "\n",
       "    .dataframe tbody tr th {\n",
       "        vertical-align: top;\n",
       "    }\n",
       "\n",
       "    .dataframe thead th {\n",
       "        text-align: right;\n",
       "    }\n",
       "</style>\n",
       "<table border=\"1\" class=\"dataframe\">\n",
       "  <thead>\n",
       "    <tr style=\"text-align: right;\">\n",
       "      <th></th>\n",
       "      <th>Frequency in insincere posts</th>\n",
       "      <th>Frequency in sincere posts</th>\n",
       "    </tr>\n",
       "  </thead>\n",
       "  <tbody>\n",
       "    <tr>\n",
       "      <th>Doublelift</th>\n",
       "      <td>0.000000</td>\n",
       "      <td>8.161187e-07</td>\n",
       "    </tr>\n",
       "    <tr>\n",
       "      <th>Sandler</th>\n",
       "      <td>0.000025</td>\n",
       "      <td>5.712831e-06</td>\n",
       "    </tr>\n",
       "    <tr>\n",
       "      <th>a55</th>\n",
       "      <td>0.000012</td>\n",
       "      <td>0.000000e+00</td>\n",
       "    </tr>\n",
       "    <tr>\n",
       "      <th>anal</th>\n",
       "      <td>0.000928</td>\n",
       "      <td>1.738333e-04</td>\n",
       "    </tr>\n",
       "    <tr>\n",
       "      <th>anilingus</th>\n",
       "      <td>0.000000</td>\n",
       "      <td>8.161187e-07</td>\n",
       "    </tr>\n",
       "  </tbody>\n",
       "</table>\n",
       "</div>"
      ],
      "text/plain": [
       "            Frequency in insincere posts  Frequency in sincere posts\n",
       "Doublelift                      0.000000                8.161187e-07\n",
       "Sandler                         0.000025                5.712831e-06\n",
       "a55                             0.000012                0.000000e+00\n",
       "anal                            0.000928                1.738333e-04\n",
       "anilingus                       0.000000                8.161187e-07"
      ]
     },
     "execution_count": 24,
     "metadata": {},
     "output_type": "execute_result"
    }
   ],
   "source": [
    "# Create DataFrame with bad-word frequencies in sincere and insincere sets\n",
    "temp = freq_insincere.set_index('Word')['Normalised Frequency'].rename('Frequency in insincere posts')\n",
    "temp2 = freq_sincere.set_index('Word')['Normalised Frequency'].rename('Frequency in sincere posts')\n",
    "df_scat = pd.concat([temp,temp2], axis=1).fillna(0)\n",
    "df_scat.head()"
   ]
  },
  {
   "cell_type": "code",
   "execution_count": 25,
   "metadata": {},
   "outputs": [
    {
     "data": {
      "text/plain": [
       "array([1, 2, 3, 4, 5, 6, 7, 8, 9])"
      ]
     },
     "execution_count": 25,
     "metadata": {},
     "output_type": "execute_result"
    }
   ],
   "source": [
    "np.arange(1,10,1)"
   ]
  },
  {
   "cell_type": "code",
   "execution_count": 26,
   "metadata": {},
   "outputs": [
    {
     "data": {
      "text/plain": [
       "<matplotlib.axes._subplots.AxesSubplot at 0x1a3051aba8>"
      ]
     },
     "execution_count": 26,
     "metadata": {},
     "output_type": "execute_result"
    },
    {
     "data": {
      "image/png": "[encoded data removed]",
      "text/plain": [
       "<Figure size 432x288 with 1 Axes>"
      ]
     },
     "metadata": {},
     "output_type": "display_data"
    }
   ],
   "source": [
    "# Scatter plot and line y=x\n",
    "ax = sns.scatterplot(x='Frequency in sincere posts', \n",
    "                y='Frequency in insincere posts', \n",
    "                data=df_scat)\n",
    "ax.set_xlim(left=0, right=0.002)\n",
    "ax.set_ylim(bottom=0, top=0.02)\n",
    "ax.set_title('''Scatter plot of bad words against their \n",
    "normalised frequencies in the Quora posts''');\n",
    "sns.lineplot(np.linspace(0,0.002,100), 2*np.linspace(0,0.002,100),\n",
    "            color='coral')"
   ]
  },
  {
   "cell_type": "markdown",
   "metadata": {},
   "source": [
    "## Removal of certain bad words from the list\n",
    "\n",
    "Let's try removing words from the 'bad words' list, that lie below the orange line (y=x) in the scatter plot above i.e. any bad word that occurs more often in the sincere set than the insincere set"
   ]
  },
  {
   "cell_type": "code",
   "execution_count": 27,
   "metadata": {},
   "outputs": [
    {
     "data": {
      "text/plain": [
       "146"
      ]
     },
     "execution_count": 27,
     "metadata": {},
     "output_type": "execute_result"
    }
   ],
   "source": [
    "# Extract words below the orange line\n",
    "bools = df_scat['Frequency in insincere posts'] < df_scat['Frequency in sincere posts']\n",
    "bw_remove = df_scat[bools].index.values.tolist()\n",
    "# Sample of these words\n",
    "len(bw_remove)"
   ]
  },
  {
   "cell_type": "code",
   "execution_count": null,
   "metadata": {},
   "outputs": [],
   "source": []
  },
  {
   "cell_type": "markdown",
   "metadata": {},
   "source": []
  },
  {
   "cell_type": "code",
   "execution_count": 33,
   "metadata": {
    "scrolled": true
   },
   "outputs": [
    {
     "data": {
      "application/vnd.jupyter.widget-view+json": {
       "model_id": "31d129649b034803ab7ecc03c7051a36",
       "version_major": 2,
       "version_minor": 0
      },
      "text/html": [
       "<p>Failed to display Jupyter Widget of type <code>HBox</code>.</p>\n",
       "<p>\n",
       "  If you're reading this message in the Jupyter Notebook or JupyterLab Notebook, it may mean\n",
       "  that the widgets JavaScript is still loading. If this message persists, it\n",
       "  likely means that the widgets JavaScript library is either not installed or\n",
       "  not enabled. See the <a href=\"https://ipywidgets.readthedocs.io/en/stable/user_install.html\">Jupyter\n",
       "  Widgets Documentation</a> for setup instructions.\n",
       "</p>\n",
       "<p>\n",
       "  If you're reading this message in another frontend (for example, a static\n",
       "  rendering on GitHub or <a href=\"https://nbviewer.jupyter.org/\">NBViewer</a>),\n",
       "  it may mean that your frontend doesn't currently support widgets.\n",
       "</p>\n"
      ],
      "text/plain": [
       "HBox(children=(IntProgress(value=0, max=1306122), HTML(value='')))"
      ]
     },
     "metadata": {},
     "output_type": "display_data"
    },
    {
     "name": "stderr",
     "output_type": "stream",
     "text": [
      "/anaconda3/lib/python3.6/site-packages/pandas/core/indexing.py:194: SettingWithCopyWarning: \n",
      "A value is trying to be set on a copy of a slice from a DataFrame\n",
      "\n",
      "See the caveats in the documentation: http://pandas.pydata.org/pandas-docs/stable/indexing.html#indexing-view-versus-copy\n",
      "  self._setitem_with_indexer(indexer, value)\n"
     ]
    },
    {
     "name": "stdout",
     "output_type": "stream",
     "text": [
      "\n"
     ]
    }
   ],
   "source": [
    "# Remove any instances in train of bad words in bw_remove\n",
    "train_dropbw = train\n",
    "for i in tqdm(range(len(train))):\n",
    "    entry = train_dropbw['bad_words'].iloc[i]\n",
    "    if entry != []:    \n",
    "        entry = [x for x in entry if x not in bw_remove]\n",
    "        train_dropbw['bad_words'].iloc[i] = entry        \n",
    "                "
   ]
  },
  {
   "cell_type": "code",
   "execution_count": null,
   "metadata": {},
   "outputs": [],
   "source": [
    "# Export as a pic"
   ]
  }
 ],
 "metadata": {
  "kernelspec": {
   "display_name": "Python 3",
   "language": "python",
   "name": "python3"
  },
  "language_info": {
   "codemirror_mode": {
    "name": "ipython",
    "version": 3
   },
   "file_extension": ".py",
   "mimetype": "text/x-python",
   "name": "python",
   "nbconvert_exporter": "python",
   "pygments_lexer": "ipython3",
   "version": "3.6.7"
  }
 },
 "nbformat": 4,
 "nbformat_minor": 1
}
