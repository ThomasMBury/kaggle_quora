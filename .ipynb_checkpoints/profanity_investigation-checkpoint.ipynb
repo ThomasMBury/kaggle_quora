{
 "cells": [
  {
   "cell_type": "markdown",
   "metadata": {
    "_uuid": "0f9afca5816a9a32703f74778d803d40fc48ffee"
   },
   "source": [
    "# Profanity in Quora questions\n",
    "This notebook investigates the use and distribution of profanity (offensive language) among the Quora dataset of questions. Perhaps detection of profaniity in a question could help determine whether the question is insincere. We will use the full list of words blacklisted by Google, found [here](https://www.freewebheaders.com/full-list-of-bad-words-banned-by-google/).\n"
   ]
  },
  {
   "cell_type": "markdown",
   "metadata": {
    "_uuid": "a29a36a1b12e561686f0ba6018bbc7a86d202a1c"
   },
   "source": [
    "## Import packages and data"
   ]
  },
  {
   "cell_type": "code",
   "execution_count": 13,
   "metadata": {
    "_cell_guid": "b1076dfc-b9ad-4769-8c92-a6c4dae69d19",
    "_kg_hide-input": false,
    "_kg_hide-output": false,
    "_uuid": "8f2839f25d086af736a60e9eeb907d3b93b6e0e5"
   },
   "outputs": [],
   "source": [
    "# Import packages\n",
    "import numpy as np # linear algebra\n",
    "import pandas as pd # data processing, CSV file I/O (e.g. pd.read_csv)\n",
    "import os\n",
    "import pickle\n",
    "from nltk.tokenize import word_tokenize\n",
    "from tqdm.auto import tqdm"
   ]
  },
  {
   "cell_type": "code",
   "execution_count": 14,
   "metadata": {
    "_cell_guid": "79c7e3d0-c299-4dcb-8224-4455121ee9b0",
    "_uuid": "d629ff2d2480ee46fbb7e2d37f6b5fab8052498a"
   },
   "outputs": [],
   "source": [
    "# Import training and test data from Quora questions dataset\n",
    "train = pd.read_csv('/Volumes/SDMemory/Datasets/Quora/train.csv')\n",
    "test = pd.read_csv('/Volumes/SDMemory/Datasets/Quora/test.csv')\n",
    "\n",
    "# Import list of bad words (banned by Google)\n",
    "bad_words = pd.read_csv('/Volumes/SDMemory/Datasets/Quora/bad_words.csv', header=None)"
   ]
  },
  {
   "cell_type": "code",
   "execution_count": 15,
   "metadata": {
    "_uuid": "e7b682efa9fea7121295f0f4756436abd4bc1f3f"
   },
   "outputs": [
    {
     "data": {
      "text/html": [
       "<div>\n",
       "<style scoped>\n",
       "    .dataframe tbody tr th:only-of-type {\n",
       "        vertical-align: middle;\n",
       "    }\n",
       "\n",
       "    .dataframe tbody tr th {\n",
       "        vertical-align: top;\n",
       "    }\n",
       "\n",
       "    .dataframe thead th {\n",
       "        text-align: right;\n",
       "    }\n",
       "</style>\n",
       "<table border=\"1\" class=\"dataframe\">\n",
       "  <thead>\n",
       "    <tr style=\"text-align: right;\">\n",
       "      <th></th>\n",
       "      <th>0</th>\n",
       "    </tr>\n",
       "  </thead>\n",
       "  <tbody>\n",
       "    <tr>\n",
       "      <th>1543</th>\n",
       "      <td>tard</td>\n",
       "    </tr>\n",
       "    <tr>\n",
       "      <th>968</th>\n",
       "      <td>kike</td>\n",
       "    </tr>\n",
       "    <tr>\n",
       "      <th>1006</th>\n",
       "      <td>leather restraint</td>\n",
       "    </tr>\n",
       "  </tbody>\n",
       "</table>\n",
       "</div>"
      ],
      "text/plain": [
       "                      0\n",
       "1543               tard\n",
       "968                kike\n",
       "1006  leather restraint"
      ]
     },
     "execution_count": 15,
     "metadata": {},
     "output_type": "execute_result"
    }
   ],
   "source": [
    "# Sample of bad words - some are actually not swear words as such\n",
    "bad_words.sample(3)"
   ]
  },
  {
   "cell_type": "markdown",
   "metadata": {
    "_uuid": "af0ba19ad79e150d175cefb77c5b8878ab91f83b"
   },
   "source": [
    "## Function to detect and output bad words in text"
   ]
  },
  {
   "cell_type": "code",
   "execution_count": 16,
   "metadata": {
    "_uuid": "bf8b7227636bed3a566a171d07c455bc7907287b"
   },
   "outputs": [],
   "source": [
    "# Returns a list (possibly empty) of bad words in text\n",
    "def detect_badwords(text):\n",
    "    # tokenize the text\n",
    "    tokens = word_tokenize(text)\n",
    "    bad_found = []\n",
    "    for word in tokens:\n",
    "        for bad_word in bad_words[0]:\n",
    "            if bad_word == word:\n",
    "                bad_found.append(word)\n",
    "    return bad_found"
   ]
  },
  {
   "cell_type": "code",
   "execution_count": 17,
   "metadata": {
    "_uuid": "babfa0bc1a1337267e64feedc98872f01c1cf6c3"
   },
   "outputs": [
    {
     "data": {
      "text/plain": [
       "[['bullshit', 'twat'], []]"
      ]
     },
     "execution_count": 17,
     "metadata": {},
     "output_type": "execute_result"
    }
   ],
   "source": [
    "# Simple examples\n",
    "s1 = 'This politician speaks nothing but bullshit, what a twat'\n",
    "s2 = 'It is a nice day today'\n",
    "[detect_badwords(s) for s in [s1,s2]]"
   ]
  },
  {
   "cell_type": "code",
   "execution_count": 18,
   "metadata": {
    "_uuid": "d512f3592a386fbbe783001ee45246e628490d10"
   },
   "outputs": [
    {
     "data": {
      "application/vnd.jupyter.widget-view+json": {
       "model_id": "6df60f061eb84027aa97a3f57b4412c0",
       "version_major": 2,
       "version_minor": 0
      },
      "text/html": [
       "<p>Failed to display Jupyter Widget of type <code>HBox</code>.</p>\n",
       "<p>\n",
       "  If you're reading this message in the Jupyter Notebook or JupyterLab Notebook, it may mean\n",
       "  that the widgets JavaScript is still loading. If this message persists, it\n",
       "  likely means that the widgets JavaScript library is either not installed or\n",
       "  not enabled. See the <a href=\"https://ipywidgets.readthedocs.io/en/stable/user_install.html\">Jupyter\n",
       "  Widgets Documentation</a> for setup instructions.\n",
       "</p>\n",
       "<p>\n",
       "  If you're reading this message in another frontend (for example, a static\n",
       "  rendering on GitHub or <a href=\"https://nbviewer.jupyter.org/\">NBViewer</a>),\n",
       "  it may mean that your frontend doesn't currently support widgets.\n",
       "</p>\n"
      ],
      "text/plain": [
       "HBox(children=(IntProgress(value=0, description='Running through i', style=ProgressStyle(description_width='initial')), HTML(value='')))"
      ]
     },
     "metadata": {},
     "output_type": "display_data"
    },
    {
     "name": "stdout",
     "output_type": "stream",
     "text": [
      "\n"
     ]
    }
   ],
   "source": [
    "# Simple use of tqdm\n",
    "from time import sleep\n",
    "for i in tqdm(range(100), desc = 'Running through i'):\n",
    "    sleep(0.01)"
   ]
  },
  {
   "cell_type": "markdown",
   "metadata": {
    "_uuid": "851aedc159fc2b3c17a67544e45803b9cb52335b"
   },
   "source": [
    "## Apply to the Quora dataset\n"
   ]
  },
  {
   "cell_type": "code",
   "execution_count": null,
   "metadata": {
    "_uuid": "2db70122fbd5126211f07ed0c6f1f83c23042446"
   },
   "outputs": [
    {
     "data": {
      "application/vnd.jupyter.widget-view+json": {
       "model_id": "3da24cafce6442138e5126d73b4b0d47",
       "version_major": 2,
       "version_minor": 0
      },
      "text/html": [
       "<p>Failed to display Jupyter Widget of type <code>HBox</code>.</p>\n",
       "<p>\n",
       "  If you're reading this message in the Jupyter Notebook or JupyterLab Notebook, it may mean\n",
       "  that the widgets JavaScript is still loading. If this message persists, it\n",
       "  likely means that the widgets JavaScript library is either not installed or\n",
       "  not enabled. See the <a href=\"https://ipywidgets.readthedocs.io/en/stable/user_install.html\">Jupyter\n",
       "  Widgets Documentation</a> for setup instructions.\n",
       "</p>\n",
       "<p>\n",
       "  If you're reading this message in another frontend (for example, a static\n",
       "  rendering on GitHub or <a href=\"https://nbviewer.jupyter.org/\">NBViewer</a>),\n",
       "  it may mean that your frontend doesn't currently support widgets.\n",
       "</p>\n"
      ],
      "text/plain": [
       "HBox(children=(IntProgress(value=0, max=1306122), HTML(value='')))"
      ]
     },
     "metadata": {},
     "output_type": "display_data"
    }
   ],
   "source": [
    "# Register `pandas.progress_apply' with `tqdm`\n",
    "tqdm.pandas()\n",
    "# Run detect_badwords over all entries in the training data\n",
    "temp_size = 10000\n",
    "train_bad_words = train['question_text'].progress_apply(detect_badwords)\n",
    "# Add as a column to the DataFrame\n",
    "train['bad_words'] = train_bad_words"
   ]
  },
  {
   "cell_type": "code",
   "execution_count": null,
   "metadata": {},
   "outputs": [],
   "source": [
    "# Export the new dataframe as a pickle file for import at a later date\n",
    "train.to_pickle('/Volumes/SDMemory/Datasets/Quora/train_bw.pkl')"
   ]
  },
  {
   "cell_type": "code",
   "execution_count": null,
   "metadata": {},
   "outputs": [],
   "source": [
    "# Import training data with bad words detected\n",
    "train = pd.read_pickle('/Volumes/SDMemory/Datasets/Quora/train_bw.pkl')"
   ]
  },
  {
   "cell_type": "code",
   "execution_count": 34,
   "metadata": {
    "_uuid": "e20c4822f851202f670c0436aec6235fb0b08059"
   },
   "outputs": [
    {
     "data": {
      "text/html": [
       "<div>\n",
       "<style scoped>\n",
       "    .dataframe tbody tr th:only-of-type {\n",
       "        vertical-align: middle;\n",
       "    }\n",
       "\n",
       "    .dataframe tbody tr th {\n",
       "        vertical-align: top;\n",
       "    }\n",
       "\n",
       "    .dataframe thead th {\n",
       "        text-align: right;\n",
       "    }\n",
       "</style>\n",
       "<table border=\"1\" class=\"dataframe\">\n",
       "  <thead>\n",
       "    <tr style=\"text-align: right;\">\n",
       "      <th></th>\n",
       "      <th>qid</th>\n",
       "      <th>question_text</th>\n",
       "      <th>target</th>\n",
       "      <th>bad_words</th>\n",
       "    </tr>\n",
       "  </thead>\n",
       "  <tbody>\n",
       "    <tr>\n",
       "      <th>0</th>\n",
       "      <td>00002165364db923c7e6</td>\n",
       "      <td>How did Quebec nationalists see their province...</td>\n",
       "      <td>0</td>\n",
       "      <td>[]</td>\n",
       "    </tr>\n",
       "    <tr>\n",
       "      <th>1</th>\n",
       "      <td>000032939017120e6e44</td>\n",
       "      <td>Do you have an adopted dog, how would you enco...</td>\n",
       "      <td>0</td>\n",
       "      <td>[]</td>\n",
       "    </tr>\n",
       "    <tr>\n",
       "      <th>2</th>\n",
       "      <td>0000412ca6e4628ce2cf</td>\n",
       "      <td>Why does velocity affect time? Does velocity a...</td>\n",
       "      <td>0</td>\n",
       "      <td>[]</td>\n",
       "    </tr>\n",
       "    <tr>\n",
       "      <th>3</th>\n",
       "      <td>000042bf85aa498cd78e</td>\n",
       "      <td>How did Otto von Guericke used the Magdeburg h...</td>\n",
       "      <td>0</td>\n",
       "      <td>[]</td>\n",
       "    </tr>\n",
       "    <tr>\n",
       "      <th>4</th>\n",
       "      <td>0000455dfa3e01eae3af</td>\n",
       "      <td>Can I convert montra helicon D to a mountain b...</td>\n",
       "      <td>0</td>\n",
       "      <td>[]</td>\n",
       "    </tr>\n",
       "  </tbody>\n",
       "</table>\n",
       "</div>"
      ],
      "text/plain": [
       "                    qid    ...    bad_words\n",
       "0  00002165364db923c7e6    ...           []\n",
       "1  000032939017120e6e44    ...           []\n",
       "2  0000412ca6e4628ce2cf    ...           []\n",
       "3  000042bf85aa498cd78e    ...           []\n",
       "4  0000455dfa3e01eae3af    ...           []\n",
       "\n",
       "[5 rows x 4 columns]"
      ]
     },
     "execution_count": 34,
     "metadata": {},
     "output_type": "execute_result"
    }
   ],
   "source": [
    "train.head()"
   ]
  },
  {
   "cell_type": "code",
   "execution_count": 41,
   "metadata": {
    "_uuid": "2aeea2c1d274afd74b81ad096c823bf013dff065"
   },
   "outputs": [],
   "source": [
    "# Collect all bad words used in the sincere data\n",
    "bools_bw_nonempty = [train['bad_words'].iloc[i] != [] for i in range(train.shape[0])]\n",
    "df_bw = train[bools_bw_nonempty]\n",
    "# Sincere set\n",
    "df_bw_sincere = train_bw[train_bw['target'] == 0]\n",
    "# Insincere set\n",
    "df_bw_insincere = train_bw[train_bw['target'] ==1 ]\n"
   ]
  },
  {
   "cell_type": "code",
   "execution_count": 60,
   "metadata": {
    "_uuid": "2f451cc032ed10a2983cdea19cef09ba7c321cc3"
   },
   "outputs": [
    {
     "data": {
      "text/html": [
       "<div>\n",
       "<style scoped>\n",
       "    .dataframe tbody tr th:only-of-type {\n",
       "        vertical-align: middle;\n",
       "    }\n",
       "\n",
       "    .dataframe tbody tr th {\n",
       "        vertical-align: top;\n",
       "    }\n",
       "\n",
       "    .dataframe thead th {\n",
       "        text-align: right;\n",
       "    }\n",
       "</style>\n",
       "<table border=\"1\" class=\"dataframe\">\n",
       "  <thead>\n",
       "    <tr style=\"text-align: right;\">\n",
       "      <th></th>\n",
       "      <th>qid</th>\n",
       "      <th>question_text</th>\n",
       "      <th>target</th>\n",
       "      <th>bad_words</th>\n",
       "    </tr>\n",
       "  </thead>\n",
       "  <tbody>\n",
       "    <tr>\n",
       "      <th>20</th>\n",
       "      <td>0000dd973dfd35508c16</td>\n",
       "      <td>How I know whether a girl had done sex before ...</td>\n",
       "      <td>0</td>\n",
       "      <td>[sex, sex]</td>\n",
       "    </tr>\n",
       "    <tr>\n",
       "      <th>48</th>\n",
       "      <td>000209378782897bbd75</td>\n",
       "      <td>What is that movie in which a kid is fooled in...</td>\n",
       "      <td>0</td>\n",
       "      <td>[kill]</td>\n",
       "    </tr>\n",
       "    <tr>\n",
       "      <th>58</th>\n",
       "      <td>00029d76717deaff60f6</td>\n",
       "      <td>Someone breaks into your house you shoot and k...</td>\n",
       "      <td>0</td>\n",
       "      <td>[kill]</td>\n",
       "    </tr>\n",
       "    <tr>\n",
       "      <th>181</th>\n",
       "      <td>00083b5c34d0b450557f</td>\n",
       "      <td>Can I kill myself now?</td>\n",
       "      <td>0</td>\n",
       "      <td>[kill]</td>\n",
       "    </tr>\n",
       "    <tr>\n",
       "      <th>242</th>\n",
       "      <td>000b5eb278abb46ace82</td>\n",
       "      <td>What does it mean that my boyfriend of 3 years...</td>\n",
       "      <td>0</td>\n",
       "      <td>[erection]</td>\n",
       "    </tr>\n",
       "  </tbody>\n",
       "</table>\n",
       "</div>"
      ],
      "text/plain": [
       "                      qid     ...       bad_words\n",
       "20   0000dd973dfd35508c16     ...      [sex, sex]\n",
       "48   000209378782897bbd75     ...          [kill]\n",
       "58   00029d76717deaff60f6     ...          [kill]\n",
       "181  00083b5c34d0b450557f     ...          [kill]\n",
       "242  000b5eb278abb46ace82     ...      [erection]\n",
       "\n",
       "[5 rows x 4 columns]"
      ]
     },
     "execution_count": 60,
     "metadata": {},
     "output_type": "execute_result"
    }
   ],
   "source": [
    "df_bw_sincere.head()"
   ]
  },
  {
   "cell_type": "code",
   "execution_count": null,
   "metadata": {},
   "outputs": [],
   "source": [
    "# Collect all bad words and their freqencies in the sincere questions\n",
    "import collections\n",
    "list_bw_sincere = df_bw_sincere['bad_words'].iloc[:temp_size].tolist()\n"
   ]
  },
  {
   "cell_type": "code",
   "execution_count": null,
   "metadata": {},
   "outputs": [],
   "source": [
    "# Define a function to flatten a list of lists\n",
    "def flatten(l):\n",
    "    x = []\n",
    "    for sublist in l:\n",
    "        for element in sublist:\n",
    "            x.append(element)\n",
    "    return x\n",
    "\n",
    "# import collections library which has functions to compute frequency of elements\n",
    "import collections"
   ]
  },
  {
   "cell_type": "code",
   "execution_count": null,
   "metadata": {},
   "outputs": [],
   "source": []
  },
  {
   "cell_type": "code",
   "execution_count": 47,
   "metadata": {
    "_uuid": "c90e8ffd2cfd6ed4599de3500a8856cdfaa0ff90"
   },
   "outputs": [],
   "source": [
    "df_bw_sincere = train[bools_sincere & bools_bw_nonempty]"
   ]
  },
  {
   "cell_type": "code",
   "execution_count": 54,
   "metadata": {
    "_uuid": "31b5c35362d0b356b1da4d97038ac01564b79b11"
   },
   "outputs": [
    {
     "ename": "TypeError",
     "evalue": "'float' object is not iterable",
     "output_type": "error",
     "traceback": [
      "\u001b[0;31m---------------------------------------------------------------------------\u001b[0m",
      "\u001b[0;31mTypeError\u001b[0m                                 Traceback (most recent call last)",
      "\u001b[0;32m<ipython-input-54-f096812ad58a>\u001b[0m in \u001b[0;36m<module>\u001b[0;34m()\u001b[0m\n\u001b[0;32m----> 1\u001b[0;31m \u001b[0mbw_sincere\u001b[0m \u001b[0;34m=\u001b[0m \u001b[0mset\u001b[0m\u001b[0;34m(\u001b[0m\u001b[0;34m)\u001b[0m\u001b[0;34m.\u001b[0m\u001b[0munion\u001b[0m\u001b[0;34m(\u001b[0m\u001b[0;34m*\u001b[0m\u001b[0mdf_bw_sincere\u001b[0m\u001b[0;34m[\u001b[0m\u001b[0;34m'bad_words'\u001b[0m\u001b[0;34m]\u001b[0m\u001b[0;34m.\u001b[0m\u001b[0mtolist\u001b[0m\u001b[0;34m(\u001b[0m\u001b[0;34m)\u001b[0m\u001b[0;34m)\u001b[0m\u001b[0;34m\u001b[0m\u001b[0m\n\u001b[0m\u001b[1;32m      2\u001b[0m \u001b[0mbw_sincere\u001b[0m\u001b[0;34m\u001b[0m\u001b[0m\n",
      "\u001b[0;31mTypeError\u001b[0m: 'float' object is not iterable"
     ]
    }
   ],
   "source": [
    "bw_sincere = set().union(*df_bw_sincere['bad_words'].tolist())\n",
    "bw_sincere"
   ]
  },
  {
   "cell_type": "code",
   "execution_count": null,
   "metadata": {
    "_uuid": "4a0f7a2f38eea5fdd1738af1b7891d9eaa4f0562"
   },
   "outputs": [],
   "source": [
    "temp=train[(train['bad_words'].iloc[i] == [] for i in range(train.shape[0])) and (train['target'] == 1)]"
   ]
  },
  {
   "cell_type": "code",
   "execution_count": null,
   "metadata": {
    "_uuid": "8b9c18b7e9091218910c3e90360eb2a8d91eb870"
   },
   "outputs": [],
   "source": [
    "# Number of each type of question\n",
    "[len(q) for q in [q_sincere, q_insincere]]"
   ]
  },
  {
   "cell_type": "code",
   "execution_count": null,
   "metadata": {
    "_uuid": "bc8833cd8ddec0680b6311dd7433f91cca2fd0b6",
    "scrolled": true
   },
   "outputs": [],
   "source": [
    "temp.iloc[11]"
   ]
  },
  {
   "cell_type": "code",
   "execution_count": null,
   "metadata": {
    "_uuid": "ec78523029c277c4e01bdb094b6dfcddd1b6bb96",
    "scrolled": false
   },
   "outputs": [],
   "source": [
    "temp['question_text'].iloc[15]"
   ]
  },
  {
   "cell_type": "code",
   "execution_count": null,
   "metadata": {
    "_uuid": "b1a02b46cc9f130ac38f6ea8a3c12b61ce254a5d"
   },
   "outputs": [],
   "source": []
  },
  {
   "cell_type": "code",
   "execution_count": null,
   "metadata": {
    "_uuid": "118d4d35ddf3a371dae858cb39ddd017d421612a"
   },
   "outputs": [],
   "source": [
    "# Extract sincere posts with a non-empty bad_words list\n",
    "bools_badwords = [train['bad_words'].iloc[i] != [] for i in range(train.shape[0]) ]\n",
    "sincere_bad = train[(train['target'] == 0) & bools_badwords]"
   ]
  },
  {
   "cell_type": "code",
   "execution_count": null,
   "metadata": {
    "_uuid": "8e09d761e192627274dface105f6f4a6b0d454c5",
    "scrolled": false
   },
   "outputs": [],
   "source": [
    "sincere_bad.head()"
   ]
  },
  {
   "cell_type": "code",
   "execution_count": null,
   "metadata": {
    "_uuid": "d0510301c47c39290d4b7b435aee790ce901d3e6"
   },
   "outputs": [],
   "source": [
    "# Collect all those bad words\n",
    "sincere_badwords = set().union(*sincere_bad['bad_words'].tolist())\n",
    "sincere_badwords"
   ]
  },
  {
   "cell_type": "code",
   "execution_count": null,
   "metadata": {
    "_uuid": "ed76cb3d1b4acdd064bf563ca4e0ca85f7d79385",
    "scrolled": false
   },
   "outputs": [],
   "source": [
    "# Find sincere Quora post(s) with 'dickhead','bugger'\n",
    "bools = ['fucking' in sincere_bad['bad_words'].iloc[i] for i in range(sincere_bad.shape[0])]\n",
    "dh_posts = sincere_bad[bools]"
   ]
  },
  {
   "cell_type": "code",
   "execution_count": null,
   "metadata": {
    "_uuid": "f09c875a81c25fb5ec310fd735238ca83a9839a7",
    "scrolled": true
   },
   "outputs": [],
   "source": [
    "print(len(dh_posts))\n",
    "dh_posts['question_text'].iloc[2]"
   ]
  },
  {
   "cell_type": "code",
   "execution_count": null,
   "metadata": {
    "_uuid": "eab1aef31dfeb5cbe901b663149c75d72c3f9475"
   },
   "outputs": [],
   "source": [
    "# Collect all bad words used in the sincere Quora questions\n",
    "# Entries with sincere questions\n",
    "bad_sincere = train[train['target'] == 0]['bad_words']\n",
    "bad_insincere = train[train['target'] == 1]['bad_words']"
   ]
  },
  {
   "cell_type": "code",
   "execution_count": null,
   "metadata": {
    "_uuid": "b464e2386c038d9c6ada1663d47dd6028914b6bb"
   },
   "outputs": [],
   "source": [
    "bad_sincere_words = set().union(*bad_sincere.tolist())\n",
    "bad_insincere_words = set().union(*bad_insincere.tolist())"
   ]
  },
  {
   "cell_type": "code",
   "execution_count": null,
   "metadata": {
    "_uuid": "3cacab76439e2760ec2e006a0371775e39bbf45a"
   },
   "outputs": [],
   "source": [
    "bad_sincere_words"
   ]
  },
  {
   "cell_type": "code",
   "execution_count": null,
   "metadata": {
    "_uuid": "951a00a31859516b8fc26e7b734be8348ccc8fa4"
   },
   "outputs": [],
   "source": [
    "len(bad_sincere_words)"
   ]
  },
  {
   "cell_type": "code",
   "execution_count": null,
   "metadata": {
    "_uuid": "be910868634fad616f02854bedfd553dd557949b"
   },
   "outputs": [],
   "source": [
    "len(bad_insincere_words)"
   ]
  },
  {
   "cell_type": "code",
   "execution_count": null,
   "metadata": {
    "_uuid": "866a63427ae38dfd7f714ed84cffc44828852df0"
   },
   "outputs": [],
   "source": []
  },
  {
   "cell_type": "code",
   "execution_count": null,
   "metadata": {
    "_uuid": "ca56f2f437716facb573c69817c3d47dd4c3eedf"
   },
   "outputs": [],
   "source": []
  }
 ],
 "metadata": {
  "kernelspec": {
   "display_name": "Python 3",
   "language": "python",
   "name": "python3"
  },
  "language_info": {
   "codemirror_mode": {
    "name": "ipython",
    "version": 3
   },
   "file_extension": ".py",
   "mimetype": "text/x-python",
   "name": "python",
   "nbconvert_exporter": "python",
   "pygments_lexer": "ipython3",
   "version": "3.6.7"
  }
 },
 "nbformat": 4,
 "nbformat_minor": 1
}
